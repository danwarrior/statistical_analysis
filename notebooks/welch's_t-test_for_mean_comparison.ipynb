{
 "cells": [
  {
   "cell_type": "markdown",
   "metadata": {},
   "source": [
    "# Welch's t-test for Comparing Two Population Means"
   ]
  },
  {
   "cell_type": "code",
   "execution_count": 429,
   "metadata": {},
   "outputs": [],
   "source": [
    "import numpy as np\n",
    "import pandas as pd\n",
    "from scipy import stats\n",
    "\n",
    "import warnings\n",
    "warnings.filterwarnings(\"ignore\")\n",
    "\n",
    "import matplotlib.pyplot as plt\n",
    "import seaborn as sns"
   ]
  },
  {
   "cell_type": "code",
   "execution_count": 430,
   "metadata": {},
   "outputs": [],
   "source": [
    "plt.style.use('bmh')"
   ]
  },
  {
   "cell_type": "markdown",
   "metadata": {},
   "source": [
    "## Load Data"
   ]
  },
  {
   "cell_type": "code",
   "execution_count": 431,
   "metadata": {},
   "outputs": [
    {
     "name": "stdout",
     "output_type": "stream",
     "text": [
      "<class 'pandas.core.frame.DataFrame'>\n",
      "RangeIndex: 130 entries, 0 to 129\n",
      "Data columns (total 4 columns):\n",
      " #   Column     Non-Null Count  Dtype  \n",
      "---  ------     --------------  -----  \n",
      " 0   Obs        130 non-null    int64  \n",
      " 1   BodyTemp   130 non-null    float64\n",
      " 2   Gender     130 non-null    int64  \n",
      " 3   HeartRate  130 non-null    int64  \n",
      "dtypes: float64(1), int64(3)\n",
      "memory usage: 4.2 KB\n"
     ]
    }
   ],
   "source": [
    "data = pd.read_csv('../data/body_temp.csv')\n",
    "data.info()"
   ]
  },
  {
   "cell_type": "markdown",
   "metadata": {},
   "source": [
    "## Describe Data"
   ]
  },
  {
   "cell_type": "code",
   "execution_count": 432,
   "metadata": {},
   "outputs": [
    {
     "data": {
      "text/html": [
       "<div>\n",
       "<style scoped>\n",
       "    .dataframe tbody tr th:only-of-type {\n",
       "        vertical-align: middle;\n",
       "    }\n",
       "\n",
       "    .dataframe tbody tr th {\n",
       "        vertical-align: top;\n",
       "    }\n",
       "\n",
       "    .dataframe thead th {\n",
       "        text-align: right;\n",
       "    }\n",
       "</style>\n",
       "<table border=\"1\" class=\"dataframe\">\n",
       "  <thead>\n",
       "    <tr style=\"text-align: right;\">\n",
       "      <th></th>\n",
       "      <th>Obs</th>\n",
       "      <th>BodyTemp</th>\n",
       "      <th>Gender</th>\n",
       "      <th>HeartRate</th>\n",
       "    </tr>\n",
       "  </thead>\n",
       "  <tbody>\n",
       "    <tr>\n",
       "      <th>count</th>\n",
       "      <td>130.000000</td>\n",
       "      <td>130.000000</td>\n",
       "      <td>130.000000</td>\n",
       "      <td>130.000000</td>\n",
       "    </tr>\n",
       "    <tr>\n",
       "      <th>mean</th>\n",
       "      <td>65.500000</td>\n",
       "      <td>98.249231</td>\n",
       "      <td>1.500000</td>\n",
       "      <td>73.761538</td>\n",
       "    </tr>\n",
       "    <tr>\n",
       "      <th>std</th>\n",
       "      <td>37.671829</td>\n",
       "      <td>0.733183</td>\n",
       "      <td>0.501934</td>\n",
       "      <td>7.062077</td>\n",
       "    </tr>\n",
       "    <tr>\n",
       "      <th>min</th>\n",
       "      <td>1.000000</td>\n",
       "      <td>96.300000</td>\n",
       "      <td>1.000000</td>\n",
       "      <td>57.000000</td>\n",
       "    </tr>\n",
       "    <tr>\n",
       "      <th>25%</th>\n",
       "      <td>33.250000</td>\n",
       "      <td>97.800000</td>\n",
       "      <td>1.000000</td>\n",
       "      <td>69.000000</td>\n",
       "    </tr>\n",
       "    <tr>\n",
       "      <th>50%</th>\n",
       "      <td>65.500000</td>\n",
       "      <td>98.300000</td>\n",
       "      <td>1.500000</td>\n",
       "      <td>74.000000</td>\n",
       "    </tr>\n",
       "    <tr>\n",
       "      <th>75%</th>\n",
       "      <td>97.750000</td>\n",
       "      <td>98.700000</td>\n",
       "      <td>2.000000</td>\n",
       "      <td>79.000000</td>\n",
       "    </tr>\n",
       "    <tr>\n",
       "      <th>max</th>\n",
       "      <td>130.000000</td>\n",
       "      <td>100.800000</td>\n",
       "      <td>2.000000</td>\n",
       "      <td>89.000000</td>\n",
       "    </tr>\n",
       "  </tbody>\n",
       "</table>\n",
       "</div>"
      ],
      "text/plain": [
       "              Obs    BodyTemp      Gender   HeartRate\n",
       "count  130.000000  130.000000  130.000000  130.000000\n",
       "mean    65.500000   98.249231    1.500000   73.761538\n",
       "std     37.671829    0.733183    0.501934    7.062077\n",
       "min      1.000000   96.300000    1.000000   57.000000\n",
       "25%     33.250000   97.800000    1.000000   69.000000\n",
       "50%     65.500000   98.300000    1.500000   74.000000\n",
       "75%     97.750000   98.700000    2.000000   79.000000\n",
       "max    130.000000  100.800000    2.000000   89.000000"
      ]
     },
     "execution_count": 432,
     "metadata": {},
     "output_type": "execute_result"
    }
   ],
   "source": [
    "data.describe()"
   ]
  },
  {
   "cell_type": "code",
   "execution_count": 433,
   "metadata": {},
   "outputs": [
    {
     "data": {
      "text/html": [
       "<div>\n",
       "<style scoped>\n",
       "    .dataframe tbody tr th:only-of-type {\n",
       "        vertical-align: middle;\n",
       "    }\n",
       "\n",
       "    .dataframe tbody tr th {\n",
       "        vertical-align: top;\n",
       "    }\n",
       "\n",
       "    .dataframe thead th {\n",
       "        text-align: right;\n",
       "    }\n",
       "</style>\n",
       "<table border=\"1\" class=\"dataframe\">\n",
       "  <thead>\n",
       "    <tr style=\"text-align: right;\">\n",
       "      <th></th>\n",
       "      <th>male</th>\n",
       "      <th>female</th>\n",
       "    </tr>\n",
       "  </thead>\n",
       "  <tbody>\n",
       "    <tr>\n",
       "      <th>count</th>\n",
       "      <td>65.000</td>\n",
       "      <td>65.000</td>\n",
       "    </tr>\n",
       "    <tr>\n",
       "      <th>mean</th>\n",
       "      <td>98.105</td>\n",
       "      <td>98.394</td>\n",
       "    </tr>\n",
       "    <tr>\n",
       "      <th>std</th>\n",
       "      <td>0.699</td>\n",
       "      <td>0.743</td>\n",
       "    </tr>\n",
       "  </tbody>\n",
       "</table>\n",
       "</div>"
      ],
      "text/plain": [
       "         male  female\n",
       "count  65.000  65.000\n",
       "mean   98.105  98.394\n",
       "std     0.699   0.743"
      ]
     },
     "execution_count": 433,
     "metadata": {},
     "output_type": "execute_result"
    }
   ],
   "source": [
    "mTemp = data[data['Gender']==1].BodyTemp\n",
    "fTemp = data[data['Gender']==2].BodyTemp\n",
    "df = pd.DataFrame({'male':mTemp.describe().round(3),\n",
    "                   'female':fTemp.describe().round(3)})\n",
    "df.iloc[:3,:]"
   ]
  },
  {
   "cell_type": "markdown",
   "metadata": {},
   "source": [
    "### We want to comapre the means between men's and women's body temperature, 98.105 and 98.394 respectively"
   ]
  },
  {
   "cell_type": "markdown",
   "metadata": {},
   "source": [
    "## Plot BodyTemp Distributions"
   ]
  },
  {
   "cell_type": "code",
   "execution_count": 434,
   "metadata": {},
   "outputs": [
    {
     "name": "stdout",
     "output_type": "stream",
     "text": [
      "Man's mean:  98.105\n",
      "Women's mean: 98.394\n"
     ]
    },
    {
     "data": {
      "image/png": "[encoded data removed]",
      "text/plain": [
       "<Figure size 864x360 with 1 Axes>"
      ]
     },
     "metadata": {
      "needs_background": "light"
     },
     "output_type": "display_data"
    }
   ],
   "source": [
    "print('Man\\'s mean: ', np.round(mTemp.mean(),3))\n",
    "print('Women\\'s mean:', np.round(fTemp.mean(),3))\n",
    "\n",
    "fig, ax = plt.subplots(1,1, figsize=(12,5))\n",
    "sns.distplot(mTemp, kde=True, label='male')\n",
    "sns.distplot(fTemp, kde=True, label='female')\n",
    "\n",
    "ax.vlines(x=mTemp.mean(), ymin=0, ymax=0.49, color='b')\n",
    "ax.vlines(x=fTemp.mean(), ymin=0, ymax=0.565, color='r')\n",
    "\n",
    "plt.legend()\n",
    "plt.show()"
   ]
  },
  {
   "cell_type": "markdown",
   "metadata": {},
   "source": [
    "## t-statistic\n",
    "\n",
    "$$ \\large t = \\frac{X_1 - X_2}{\\sqrt{ \\frac{\\sigma_1^2}{n_1} + \\frac{\\sigma_2^2}{n_2}}} $$ "
   ]
  },
  {
   "cell_type": "code",
   "execution_count": 435,
   "metadata": {},
   "outputs": [
    {
     "name": "stdout",
     "output_type": "stream",
     "text": [
      "\n",
      "t satatistic: -2.2854345381654997\n"
     ]
    }
   ],
   "source": [
    "dMean = mTemp.mean() - fTemp.mean()\n",
    "dStd = np.sqrt( (mTemp.std()**2) / len(mTemp) + (fTemp.std()**2) / len(fTemp) )\n",
    "t_stat = dMean / dStd\n",
    "print(f'\\nt satatistic: {t_stat}')"
   ]
  },
  {
   "cell_type": "markdown",
   "metadata": {},
   "source": [
    "## Welch degrees of freedom\n",
    "\n",
    "$$ \\Large w_{df} = \\frac{(s_1 + s_2)^2}{\\frac{s_1^2}{n_1-1} + \\frac{s_2^2}{n_2-1}} $$\n",
    "### where\n",
    "$$ s_i = \\frac{\\sigma_i^2}{n_i}, \\ \\ \\ \\ \\ i\\in\\{1,2\\} $$"
   ]
  },
  {
   "cell_type": "code",
   "execution_count": 436,
   "metadata": {},
   "outputs": [],
   "source": [
    "v1 = np.var(mTemp)\n",
    "v2 = np.var(fTemp)\n",
    "n1 = len(mTemp)\n",
    "n2 = len(fTemp)\n",
    "\n",
    "vn1 = v1/n1\n",
    "vn2 = v2/n2"
   ]
  },
  {
   "cell_type": "code",
   "execution_count": 437,
   "metadata": {},
   "outputs": [],
   "source": [
    "vn1 = v1/n1\n",
    "vn2 = v2/n2"
   ]
  },
  {
   "cell_type": "code",
   "execution_count": 438,
   "metadata": {},
   "outputs": [
    {
     "name": "stdout",
     "output_type": "stream",
     "text": [
      "\n",
      "Degrees of freedom: 127.51030083039093\n"
     ]
    }
   ],
   "source": [
    "w_df = (vn1 + vn2)**2 / (vn1**2/(n1-1) + vn2**2/(n2-1))\n",
    "print(f'\\nDegrees of freedom: {w_df}')"
   ]
  },
  {
   "cell_type": "markdown",
   "metadata": {},
   "source": [
    "## Probabilities of observing the estimated t value"
   ]
  },
  {
   "cell_type": "code",
   "execution_count": 439,
   "metadata": {},
   "outputs": [
    {
     "name": "stdout",
     "output_type": "stream",
     "text": [
      "\n",
      "t-statistic: -2.2854345381654997\n",
      "\n",
      "Probability of finding t (p-value): 0.0239\n",
      "Probability of not finding t:       0.9761\n"
     ]
    },
    {
     "data": {
      "image/png": "[encoded data removed]",
      "text/plain": [
       "<Figure size 1080x432 with 1 Axes>"
      ]
     },
     "metadata": {
      "needs_background": "light"
     },
     "output_type": "display_data"
    },
    {
     "name": "stdout",
     "output_type": "stream",
     "text": [
      "Cut-off values at 95% confidence level => (-1.9787433665531817, 1.9787433665531813)\n",
      "Cut-off values at 99% confidence level => (-2.6149366303130135, 2.614936630313013)\n"
     ]
    }
   ],
   "source": [
    "a = 2*stats.t.cdf(t_stat, df=w_df)\n",
    "p = 1 - a\n",
    "print(f'\\nt-statistic: {t_stat}')\n",
    "print(f'\\nProbability of finding t (p-value): {np.round(a,4)}')\n",
    "print(f'Probability of not finding t:       {np.round(p,4)}')\n",
    "\n",
    "\n",
    "fig, ax = plt.subplots(1, 1, figsize=(15,6))\n",
    "plt.title('t-distribution', fontsize=20)\n",
    "x = np.linspace(stats.t.ppf(0.0001, w_df),\n",
    "                stats.t.ppf(0.9999, w_df), 100)\n",
    "ax.plot(x, stats.t.pdf(x, w_df),\n",
    "       'b--', lw=3, alpha=0.3, label='t pdf')\n",
    "\n",
    "alpha = 0.05/2\n",
    "a = stats.t.ppf(alpha, w_df)\n",
    "fa = stats.t.pdf(a, w_df)\n",
    "b = stats.t.ppf(1-alpha, w_df)\n",
    "fb = stats.t.pdf(b, w_df)\n",
    "\n",
    "ax.vlines(x=a, ymin=0, ymax=fa, label='0.5%')\n",
    "ax.vlines(x=b, ymin=0, ymax=fb)\n",
    "\n",
    "alpha = 0.01/2\n",
    "a = stats.t.ppf(alpha, w_df)\n",
    "fa = stats.t.pdf(a, w_df)\n",
    "b = stats.t.ppf(1-alpha, w_df)\n",
    "fb = stats.t.pdf(b, w_df)\n",
    "\n",
    "ax.vlines(x=a, ymin=0, ymax=fa, color='g', label='0.1%')\n",
    "ax.vlines(x=b, ymin=0, ymax=fb, color='g')\n",
    "\n",
    "ax.scatter(x=t_stat, y=0, marker=\"$t$\", s=300, c='r', label='t_stat')\n",
    "plt.legend()\n",
    "plt.show()\n",
    "\n",
    "alpha = 0.05/2\n",
    "print(f'Cut-off values at 95% confidence level => {stats.t.ppf(alpha, w_df), stats.t.ppf(1-alpha, w_df)}')\n",
    "alpha = 0.01/2\n",
    "print(f'Cut-off values at 99% confidence level => {stats.t.ppf(alpha, w_df), stats.t.ppf(1-alpha, w_df)}')"
   ]
  },
  {
   "cell_type": "markdown",
   "metadata": {},
   "source": [
    "### There is a significat difference in the means at the 95% confidence level ( $p=0.0239 < 0.05$ ) but not at the 99% ( $p=0.0239 > 0.01$ )"
   ]
  },
  {
   "cell_type": "markdown",
   "metadata": {},
   "source": [
    "## Confidence Intervals"
   ]
  },
  {
   "cell_type": "code",
   "execution_count": 441,
   "metadata": {},
   "outputs": [
    {
     "name": "stdout",
     "output_type": "stream",
     "text": [
      "\n",
      "0 NOT IN [-0.54, -0.039] => significant difference at 0.05 level\n",
      "0 IN [-0.62, 0.042] => not significant difference at 0.01 level\n"
     ]
    },
    {
     "data": {
      "image/png": "[encoded data removed]",
      "text/plain": [
       "<Figure size 1080x144 with 1 Axes>"
      ]
     },
     "metadata": {
      "needs_background": "light"
     },
     "output_type": "display_data"
    }
   ],
   "source": [
    "fig, ax = plt.subplots(1, 1, figsize=(15,2))\n",
    "plt.title('Confidence intervals', fontsize=20)\n",
    "\n",
    "me = mTemp.mean() - fTemp.mean()\n",
    "\n",
    "alpha = 0.05/2\n",
    "te = stats.t.ppf(1-alpha, w_df)*dStd\n",
    "a, b = np.round(me-te,3), np.round(me+te,3)\n",
    "print(f'\\n0 NOT IN [{a}, {b}] => significant difference at 0.05 level')\n",
    "x = np.linspace(a, b, 100)\n",
    "ax.plot(x, np.ones(len(x))*0.1,\n",
    "       'b-', lw=15, alpha=0.3, label=' 95%')\n",
    "\n",
    "alpha = 0.01/2\n",
    "te = stats.t.ppf(1-alpha, w_df)*dStd\n",
    "a, b = np.round(me-te,3), np.round(me+te,3)\n",
    "print(f'0 IN [{a}, {b}] => not significant difference at 0.01 level')\n",
    "\n",
    "x = np.linspace(a, b, 100)\n",
    "ax.plot(x, np.ones(len(x))*0.1,\n",
    "       'g-', lw=15, alpha=0.3, label=' 99%')\n",
    "\n",
    "ax.scatter(x=0, y=0, marker=\"$\\mu$\", s=200, c='r', label=r'$\\mu_1=\\mu_2$')\n",
    "#ax.scatter(x=me, y=0, marker=r'$\\mu^*$', s=200, c='r', label=r'$\\mu_1\\ne\\mu_2$')\n",
    "\n",
    "ax.set_ylim(-0.05, 0.5)\n",
    "plt.yticks([])\n",
    "plt.legend()\n",
    "plt.show()"
   ]
  },
  {
   "cell_type": "markdown",
   "metadata": {},
   "source": [
    "## Two sided Welch Test (Scipy)"
   ]
  },
  {
   "cell_type": "code",
   "execution_count": 442,
   "metadata": {},
   "outputs": [
    {
     "name": "stdout",
     "output_type": "stream",
     "text": [
      "Ttest_indResult(statistic=-2.2854345381654984, pvalue=0.023938264182940983)\n"
     ]
    }
   ],
   "source": [
    "print(stats.ttest_ind(mTemp, fTemp, equal_var = False))"
   ]
  },
  {
   "cell_type": "code",
   "execution_count": null,
   "metadata": {},
   "outputs": [],
   "source": []
  }
 ],
 "metadata": {
  "kernelspec": {
   "display_name": "Python 3",
   "language": "python",
   "name": "python3"
  },
  "language_info": {
   "codemirror_mode": {
    "name": "ipython",
    "version": 3
   },
   "file_extension": ".py",
   "mimetype": "text/x-python",
   "name": "python",
   "nbconvert_exporter": "python",
   "pygments_lexer": "ipython3",
   "version": "3.7.4"
  }
 },
 "nbformat": 4,
 "nbformat_minor": 2
}
